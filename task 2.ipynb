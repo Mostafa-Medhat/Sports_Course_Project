{
 "cells": [
  {
   "cell_type": "code",
   "execution_count": 5,
   "id": "027efefa",
   "metadata": {},
   "outputs": [
    {
     "name": "stdout",
     "output_type": "stream",
     "text": [
      "Enter distance: 50\n",
      "Enter angle: 10\n",
      "Enter initial velocity: 10\n",
      "max hight 0.15369099369085681\n",
      "hight at gool  -117.49294484556087\n",
      "hight at gool  0\n"
     ]
    }
   ],
   "source": [
    "from math import *\n",
    "import math\n",
    "\n",
    "d = int(input(\"Enter distance: \"))\n",
    "a = int(input(\"Enter angle: \"))\n",
    "a=a*(3.14/180)\n",
    "vi = int(input(\"Enter initial velocity: \"))\n",
    "\n",
    "\n",
    "\n",
    "\n",
    "t1 = (vi * math.sin(a))/(9.8)\n",
    "\n",
    "hm = vi * t1 * math.sin(a) - 0.5 * 9.8 * (t1**2)\n",
    "\n",
    "t2 = d /(vi * math.cos(a))\n",
    "\n",
    "hg = vi * t2 * math.sin(a)-0.5 * 9.8 * (t2**2)\n",
    "\n",
    "print(\"max hight\", hm )\n",
    "print(\"hight at gool \", hg)\n",
    "if hg<=0:\n",
    "    hg=0\n",
    "\n",
    "print(\"hight at gool \", hg)\n",
    "    \n",
    "\n"
   ]
  },
  {
   "cell_type": "code",
   "execution_count": null,
   "id": "be68f8a8",
   "metadata": {},
   "outputs": [],
   "source": [
    "def calculate():\n",
    "    t1 = (vi * math.sin(a))/(9.8)\n",
    "    hm = vi * t1 * math.sin(a) - 0.5 * 9.8 * (t1**2)\n",
    "    t2 = d /(vi * math.cos(a))\n",
    "    hg = vi * t2 * math.sin(a)-0.5 * 9.8 * (t2**2)\n",
    "    if hg<=0:\n",
    "    hg=0\n",
    "    "
   ]
  },
  {
   "cell_type": "code",
   "execution_count": null,
   "id": "5adf6fe1",
   "metadata": {},
   "outputs": [],
   "source": [
    "from PyQt5 import QtWidgets, uic\n",
    "from PyQt5.QtWidgets import  QApplication, QMainWindow, QWidget, QPushButton, QVBoxLayout, QFileDialog, QGraphicsView\n",
    "from PyQt5.uic.properties import QtCore\n",
    "import sys\n",
    "from math import *\n",
    "import math\n",
    "\n",
    "class Ui(QtWidgets.QMainWindow):\n",
    "    def __init__(self):\n",
    "        super(Ui, self).__init__()\n",
    "        uic.loadUi('Simulator3.ui', self)\n",
    "        self.show()\n",
    "        self.calcbotton.clicked.connect(self.calc)\n",
    "        \n",
    "        \n",
    "    def calc(self):\n",
    "        \n",
    "        self.maxhightbox.clear()\n",
    "        self.hightatgoalbox.clear()\n",
    "        \n",
    "        d = int(self.distancebox.toPlainText())\n",
    "        a = int(self.anglebox.toPlainText())\n",
    "        a=a*(3.14/180)\n",
    "        vi = int(self.velocitybox.toPlainText())\n",
    "\n",
    "        t1 = (vi * math.sin(a))/(9.8)\n",
    "\n",
    "        hm = vi * t1 * math.sin(a) - 0.5 * 9.8 * (t1**2)\n",
    "\n",
    "        t2 = d /(vi * math.cos(a))\n",
    "\n",
    "        hg = vi * t2 * math.sin(a)-0.5 * 9.8 * (t2**2)\n",
    "        if hg<=0:\n",
    "            hg=0\n",
    "            \n",
    "        \n",
    "\n",
    "        print(\"max hight\",str(round(hm, 3)) )\n",
    "        print(\"hight at gool \", str(round(hg, 3)))\n",
    "        \n",
    "       \n",
    "        self.maxhightbox.append(str(round(hm, 3)))\n",
    "        self.hightatgoalbox.append(str(round(hg, 3)))\n",
    "\n",
    "        \n",
    "\n",
    "        \n",
    "app = QtWidgets.QApplication(sys.argv)\n",
    "window = Ui()\n",
    "app.exec_()"
   ]
  },
  {
   "cell_type": "code",
   "execution_count": null,
   "id": "04f58fc2",
   "metadata": {},
   "outputs": [],
   "source": []
  },
  {
   "cell_type": "code",
   "execution_count": null,
   "id": "016388aa",
   "metadata": {},
   "outputs": [],
   "source": []
  }
 ],
 "metadata": {
  "kernelspec": {
   "display_name": "Python 3 (ipykernel)",
   "language": "python",
   "name": "python3"
  },
  "language_info": {
   "codemirror_mode": {
    "name": "ipython",
    "version": 3
   },
   "file_extension": ".py",
   "mimetype": "text/x-python",
   "name": "python",
   "nbconvert_exporter": "python",
   "pygments_lexer": "ipython3",
   "version": "3.9.7"
  }
 },
 "nbformat": 4,
 "nbformat_minor": 5
}
